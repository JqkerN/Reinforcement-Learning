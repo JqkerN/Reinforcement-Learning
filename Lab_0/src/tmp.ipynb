{
  "nbformat": 4,
  "nbformat_minor": 0,
  "metadata": {
    "colab": {
      "name": "tmp.ipynb",
      "provenance": [],
      "collapsed_sections": [],
      "toc_visible": true,
      "authorship_tag": "ABX9TyOMdcmtBNomEMp/yQ5ySzyF",
      "include_colab_link": true
    },
    "kernelspec": {
      "name": "python3",
      "display_name": "Python 3"
    }
  },
  "cells": [
    {
      "cell_type": "markdown",
      "metadata": {
        "id": "view-in-github",
        "colab_type": "text"
      },
      "source": [
        "<a href=\"https://colab.research.google.com/github/JqkerN/Reinforcement-Learning/blob/main/tmp.ipynb\" target=\"_parent\"><img src=\"https://colab.research.google.com/assets/colab-badge.svg\" alt=\"Open In Colab\"/></a>"
      ]
    },
    {
      "cell_type": "markdown",
      "metadata": {
        "id": "4VN09CkqSoJ9"
      },
      "source": [
        "# Task: 1\n",
        "\n",
        "**State-Space:**\n",
        "S = {0:41}<br>\n",
        "**Action-Space:**\n",
        "A = U_s_in_S A_i{A_s -1, A_s +1, A_s -7, A_s +7}<br>\n",
        "**Transition Probability (Deterministic) (if walls/boundare, equal to 0):**\n",
        "T = P(s'|s,a) = 1  <br>\n",
        "**(-1) Reward for Each Action:**\n",
        "R = -1\n",
        "\n"
      ]
    },
    {
      "cell_type": "code",
      "metadata": {
        "id": "o6uGa3l2ig4O"
      },
      "source": [
        "\n",
        "\n"
      ],
      "execution_count": null,
      "outputs": []
    }
  ]
}