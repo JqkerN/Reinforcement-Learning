{
  "nbformat": 4,
  "nbformat_minor": 0,
  "metadata": {
    "colab": {
      "name": "tmp.ipynb",
      "provenance": [],
      "collapsed_sections": [],
      "authorship_tag": "ABX9TyOMdcmtBNomEMp/yQ5ySzyF",
      "include_colab_link": true
    },
    "kernelspec": {
      "name": "python3",
      "display_name": "Python 3"
    }
  },
  "cells": [
    {
      "cell_type": "markdown",
      "metadata": {
        "id": "view-in-github",
        "colab_type": "text"
      },
      "source": [
        "<a href=\"https://colab.research.google.com/github/JqkerN/Reinforcement-Learning/blob/main/tmp.ipynb\" target=\"_parent\"><img src=\"https://colab.research.google.com/assets/colab-badge.svg\" alt=\"Open In Colab\"/></a>"
      ]
    },
    {
      "cell_type": "markdown",
      "metadata": {
        "id": "4VN09CkqSoJ9"
      },
      "source": [
        "# Task: 1\n",
        "\n",
        "**State-Space:**\n",
        "S = {0:41}<br>\n",
        "**Action-Space:**\n",
        "A = U_s_in_S A_i{A_s -1, A_s +1, A_s -7, A_s +7}<br>\n",
        "**Transition Probability (Deterministic) (if walls/boundare, equal to 0):**\n",
        "T = P(s'|s,a) = 1  <br>\n",
        "**(-1) Reward for Each Action:**\n",
        "R = -1\n",
        "\n"
      ]
    },
    {
      "cell_type": "code",
      "metadata": {
        "id": "o6uGa3l2ig4O",
        "outputId": "40203798-ab04-4826-c599-f6a9f7b4f310",
        "colab": {
          "base_uri": "https://localhost:8080/",
          "height": 69
        }
      },
      "source": [
        "\n",
        "\n"
      ],
      "execution_count": 2,
      "outputs": [
        {
          "output_type": "execute_result",
          "data": {
            "application/vnd.google.colaboratory.intrinsic+json": {
              "type": "string"
            },
            "text/plain": [
              "'\\nS = {0:41}                                          State-Space\\nA = U_s_in_S A_i{A_s -1, A_s +1, A_s -7, A_s +7}    Action-Space\\nT = P(a|S) = 1                                      Transition Probability (Deterministic)\\nR = -1                                              -1 reward for each action\\n'"
            ]
          },
          "metadata": {
            "tags": []
          },
          "execution_count": 2
        }
      ]
    }
  ]
}